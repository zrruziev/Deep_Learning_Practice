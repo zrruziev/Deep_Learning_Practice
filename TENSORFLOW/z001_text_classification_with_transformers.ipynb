{
  "cells": [
    {
      "cell_type": "markdown",
      "metadata": {
        "id": "view-in-github",
        "colab_type": "text"
      },
      "source": [
        "<a href=\"https://colab.research.google.com/github/zrruziev/deep_learning_practice/blob/main/TENSORFLOW/text_classification_with_transformers.ipynb\" target=\"_parent\"><img src=\"https://colab.research.google.com/assets/colab-badge.svg\" alt=\"Open In Colab\"/></a>"
      ]
    },
    {
      "cell_type": "markdown",
      "id": "9c9d703b",
      "metadata": {
        "id": "9c9d703b"
      },
      "source": [
        "## Setup"
      ]
    },
    {
      "cell_type": "markdown",
      "id": "bdbc30b9",
      "metadata": {
        "id": "bdbc30b9"
      },
      "source": [
        "[Official Link](https://keras.io/examples/nlp/text_classification_with_transformer/) | [Transformer embeddings and tokenization](https://vaclavkosar.com/ml/transformer-embeddings-and-tokenization)"
      ]
    },
    {
      "cell_type": "code",
      "execution_count": 1,
      "id": "8da7b4db",
      "metadata": {
        "id": "8da7b4db"
      },
      "outputs": [],
      "source": [
        "import tensorflow as tf\n",
        "from tensorflow import keras\n",
        "from tensorflow.keras import layers\n",
        "from pprint import pprint"
      ]
    },
    {
      "cell_type": "markdown",
      "id": "6e0d39c7",
      "metadata": {
        "id": "6e0d39c7"
      },
      "source": [
        "# Implement embedding + positional encoding layer\n",
        "Two seperate embedding layers, one for tokens, one for token index (positions)."
      ]
    },
    {
      "cell_type": "code",
      "execution_count": 2,
      "id": "5ab9e0a4",
      "metadata": {
        "id": "5ab9e0a4"
      },
      "outputs": [],
      "source": [
        "class TokenAndPositionEmbedding(layers.Layer):\n",
        "    def __init__(self, maxlen, vocab_size, embed_dim):\n",
        "        super().__init__()\n",
        "        self.token_emb = layers.Embedding(input_dim=vocab_size, output_dim=embed_dim)\n",
        "        self.pos_emb = layers.Embedding(input_dim=maxlen, output_dim=embed_dim)\n",
        "\n",
        "    def call(self, x):\n",
        "        maxlen = tf.shape(x)[-1]\n",
        "        positions = tf.range(start=0, limit=maxlen, delta=1)\n",
        "#         print(f\"positions: {positions.shape}\")\n",
        "        positions = self.pos_emb(positions)\n",
        "#         print(f\"pos_emb: {positions.shape}\")\n",
        "        x = self.token_emb(x)\n",
        "        return x + positions"
      ]
    },
    {
      "cell_type": "markdown",
      "id": "2c4f57c2",
      "metadata": {
        "id": "2c4f57c2"
      },
      "source": [
        "# Implement a Transformer block as a layer"
      ]
    },
    {
      "cell_type": "code",
      "execution_count": 3,
      "id": "e0ba84d8",
      "metadata": {
        "id": "e0ba84d8"
      },
      "outputs": [],
      "source": [
        "class TransformerBlock(layers.Layer):\n",
        "    def __init__(self, embed_dim, num_heads, ff_dim, rate=0.1):\n",
        "        super().__init__()\n",
        "        self.att = layers.MultiHeadAttention(num_heads=num_heads, key_dim=embed_dim)\n",
        "        self.ffn = keras.Sequential(\n",
        "            [layers.Dense(ff_dim, activation=\"relu\"), layers.Dense(embed_dim),]\n",
        "        )\n",
        "        self.layernorm1 = layers.LayerNormalization(epsilon=1e-6)\n",
        "        self.layernorm2 = layers.LayerNormalization(epsilon=1e-6)\n",
        "        self.dropout1 = layers.Dropout(rate)\n",
        "        self.dropout2 = layers.Dropout(rate)\n",
        "#         pprint(f\"Attention Configs:{self.att.get_config()}\")\n",
        "        \n",
        "\n",
        "    def call(self, inputs, training):\n",
        "        attn_output = self.att(inputs, inputs)\n",
        "        attn_output = self.dropout1(attn_output, training=training)\n",
        "        out1 = self.layernorm1(inputs + attn_output)\n",
        "        ffn_output = self.ffn(out1)\n",
        "        ffn_output = self.dropout2(ffn_output, training=training)\n",
        "#         print(f\"\\ninput: {inputs.shape}\\noutput: {self.layernorm2(out1 + ffn_output).shape}\")\n",
        "        return self.layernorm2(out1 + ffn_output)"
      ]
    },
    {
      "cell_type": "markdown",
      "id": "66b3b6be",
      "metadata": {
        "id": "66b3b6be"
      },
      "source": [
        "# Download and prepare dataset"
      ]
    },
    {
      "cell_type": "code",
      "execution_count": 4,
      "id": "9aa732fa",
      "metadata": {
        "colab": {
          "base_uri": "https://localhost:8080/"
        },
        "id": "9aa732fa",
        "outputId": "2df5c520-bd3e-4de1-921c-cd78512e4803"
      },
      "outputs": [
        {
          "output_type": "stream",
          "name": "stdout",
          "text": [
            "Downloading data from https://storage.googleapis.com/tensorflow/tf-keras-datasets/imdb.npz\n",
            "17464789/17464789 [==============================] - 2s 0us/step\n",
            "25000 Training sequences\n",
            "25000 Validation sequences\n",
            "train_shape: (25000, 200)\n",
            "\n",
            "x_train[0] = \n",
            "\n",
            "[    5    25   100    43   838   112    50   670     2     9    35   480\n",
            "   284     5   150     4   172   112   167     2   336   385    39     4\n",
            "   172  4536  1111    17   546    38    13   447     4   192    50    16\n",
            "     6   147  2025    19    14    22     4  1920  4613   469     4    22\n",
            "    71    87    12    16    43   530    38    76    15    13  1247     4\n",
            "    22    17   515    17    12    16   626    18 19193     5    62   386\n",
            "    12     8   316     8   106     5     4  2223  5244    16   480    66\n",
            "  3785    33     4   130    12    16    38   619     5    25   124    51\n",
            "    36   135    48    25  1415    33     6    22    12   215    28    77\n",
            "    52     5    14   407    16    82 10311     8     4   107   117  5952\n",
            "    15   256     4     2     7  3766     5   723    36    71    43   530\n",
            "   476    26   400   317    46     7     4 12118  1029    13   104    88\n",
            "     4   381    15   297    98    32  2071    56    26   141     6   194\n",
            "  7486    18     4   226    22    21   134   476    26   480     5   144\n",
            "    30  5535    18    51    36    28   224    92    25   104     4   226\n",
            "    65    16    38  1334    88    12    16   283     5    16  4472   113\n",
            "   103    32    15    16  5345    19   178    32]\n",
            "\n",
            "\n",
            "x_val[0] = \n",
            "\n",
            "[    0     0     0     0     0     0     0     0     0     0     0     0\n",
            "     0     0     0     0     0     0     0     0     0     0     0     0\n",
            "     0     0     0     0     0     0     0     0     0     0     0     0\n",
            "     0     0     0     0     0     0     0     0     0     0     0     0\n",
            "     0     0     0     0     0     0     0     0     0     0     0     0\n",
            "     0     0     0     0     0     0     0     0     0     0     0     0\n",
            "     0     0     0     0     0     0     0     0     0     0     0     0\n",
            "     0     0     0     0     0     0     0     0     0     0     0     0\n",
            "     0     0     0     0     0     0     0     0     0     0     0     0\n",
            "     0     0     0     0     0     0     0     0     0     0     0     0\n",
            "     0     0     0     0     0     0     0     0     0     0     0     0\n",
            "     1   591   202    14    31     6   717    10    10 18142 10698     5\n",
            "     4   360     7     4   177  5760   394   354     4   123     9  1035\n",
            "  1035  1035    10    10    13    92   124    89   488  7944   100    28\n",
            "  1668    14    31    23    27  7479    29   220   468     8   124    14\n",
            "   286   170     8   157    46     5    27   239    16   179 15387    38\n",
            "    32    25  7944   451   202    14     6   717]\n"
          ]
        }
      ],
      "source": [
        "vocab_size = 20000  # Only consider the top 20k words\n",
        "maxlen = 200  # Only consider the first 200 words of each movie review\n",
        "(x_train, y_train), (x_val, y_val) = keras.datasets.imdb.load_data(num_words=vocab_size)\n",
        "print(len(x_train), \"Training sequences\")\n",
        "print(len(x_val), \"Validation sequences\")\n",
        "x_train = keras.preprocessing.sequence.pad_sequences(x_train, maxlen=maxlen)\n",
        "x_val = keras.preprocessing.sequence.pad_sequences(x_val, maxlen=maxlen)\n",
        "\n",
        "print(f\"train_shape: {x_train.shape}\")\n",
        "print(f\"\\nx_train[0] = \\n\\n{x_train[0]}\")\n",
        "print(f\"\\n\\nx_val[0] = \\n\\n{x_val[0]}\")"
      ]
    },
    {
      "cell_type": "markdown",
      "id": "1e98de73",
      "metadata": {
        "id": "1e98de73"
      },
      "source": [
        "# Create classifier model using transformer layer\n",
        "Transformer layer outputs one vector for each time step of our input sequence. Here, we take the mean across all time steps and use a feed forward network on top of it to classify text."
      ]
    },
    {
      "cell_type": "code",
      "execution_count": 5,
      "id": "8ce5ffaa",
      "metadata": {
        "colab": {
          "base_uri": "https://localhost:8080/"
        },
        "id": "8ce5ffaa",
        "outputId": "031fe5aa-6f16-4d8b-866f-bd1fb6e428ed"
      },
      "outputs": [
        {
          "output_type": "stream",
          "name": "stdout",
          "text": [
            "Model: \"model\"\n",
            "_________________________________________________________________\n",
            " Layer (type)                Output Shape              Param #   \n",
            "=================================================================\n",
            " input_1 (InputLayer)        [(None, 200)]             0         \n",
            "                                                                 \n",
            " token_and_position_embeddin  (None, 200, 32)          646400    \n",
            " g (TokenAndPositionEmbeddin                                     \n",
            " g)                                                              \n",
            "                                                                 \n",
            " transformer_block (Transfor  (None, 200, 32)          10656     \n",
            " merBlock)                                                       \n",
            "                                                                 \n",
            " global_average_pooling1d (G  (None, 32)               0         \n",
            " lobalAveragePooling1D)                                          \n",
            "                                                                 \n",
            " dropout_2 (Dropout)         (None, 32)                0         \n",
            "                                                                 \n",
            " dense_2 (Dense)             (None, 20)                660       \n",
            "                                                                 \n",
            " dropout_3 (Dropout)         (None, 20)                0         \n",
            "                                                                 \n",
            " dense_3 (Dense)             (None, 2)                 42        \n",
            "                                                                 \n",
            "=================================================================\n",
            "Total params: 657,758\n",
            "Trainable params: 657,758\n",
            "Non-trainable params: 0\n",
            "_________________________________________________________________\n"
          ]
        }
      ],
      "source": [
        "tf.keras.backend.clear_session()\n",
        "\n",
        "embed_dim = 32  # Embedding size for each token\n",
        "num_heads = 2  # Number of attention heads\n",
        "ff_dim = 32  # Hidden layer size in feed forward network inside transformer\n",
        "\n",
        "inputs = layers.Input(shape=(maxlen,))\n",
        "embedding_layer = TokenAndPositionEmbedding(maxlen, vocab_size, embed_dim)\n",
        "x = embedding_layer(inputs)\n",
        "transformer_block = TransformerBlock(embed_dim, num_heads, ff_dim)\n",
        "x = transformer_block(x)\n",
        "x = layers.GlobalAveragePooling1D()(x)\n",
        "x = layers.Dropout(0.1)(x)\n",
        "x = layers.Dense(20, activation=\"relu\")(x)\n",
        "x = layers.Dropout(0.1)(x)\n",
        "outputs = layers.Dense(2, activation=\"softmax\")(x)\n",
        "\n",
        "model = keras.Model(inputs=inputs, outputs=outputs)\n",
        "\n",
        "model.summary()"
      ]
    },
    {
      "cell_type": "code",
      "execution_count": 6,
      "id": "9428eb15",
      "metadata": {
        "colab": {
          "base_uri": "https://localhost:8080/",
          "height": 653
        },
        "id": "9428eb15",
        "outputId": "52012580-b4e0-4ce8-c81b-4895ec4a1940"
      },
      "outputs": [
        {
          "output_type": "execute_result",
          "data": {
            "image/png": "[encoded data removed]",
            "text/plain": [
              "<IPython.core.display.Image object>"
            ]
          },
          "metadata": {},
          "execution_count": 6
        }
      ],
      "source": [
        "tf.keras.utils.plot_model(model, 'txt_cls_transformers.png', dpi=72,show_shapes=True, show_layer_activations=True)"
      ]
    },
    {
      "cell_type": "markdown",
      "id": "a6c2e7ad",
      "metadata": {
        "id": "a6c2e7ad"
      },
      "source": [
        "# Train and Evaluate"
      ]
    },
    {
      "cell_type": "code",
      "execution_count": 7,
      "id": "830a5cff",
      "metadata": {
        "colab": {
          "base_uri": "https://localhost:8080/"
        },
        "id": "830a5cff",
        "outputId": "8ec94810-b3d8-46f3-e97d-a11725403685"
      },
      "outputs": [
        {
          "output_type": "stream",
          "name": "stdout",
          "text": [
            "Epoch 1/5\n",
            "782/782 [==============================] - 12s 11ms/step - loss: 0.3866 - accuracy: 0.8140 - val_loss: 0.2855 - val_accuracy: 0.8815\n",
            "Epoch 2/5\n",
            "782/782 [==============================] - 9s 11ms/step - loss: 0.1977 - accuracy: 0.9248 - val_loss: 0.3200 - val_accuracy: 0.8729\n",
            "Epoch 3/5\n",
            "782/782 [==============================] - 8s 11ms/step - loss: 0.1275 - accuracy: 0.9552 - val_loss: 0.3977 - val_accuracy: 0.8599\n",
            "Epoch 4/5\n",
            "782/782 [==============================] - 8s 11ms/step - loss: 0.0826 - accuracy: 0.9733 - val_loss: 0.4447 - val_accuracy: 0.8474\n",
            "Epoch 5/5\n",
            "782/782 [==============================] - 8s 11ms/step - loss: 0.0572 - accuracy: 0.9821 - val_loss: 0.6070 - val_accuracy: 0.8388\n"
          ]
        }
      ],
      "source": [
        "model.compile(optimizer=\"adam\", loss=\"sparse_categorical_crossentropy\", metrics=[\"accuracy\"])\n",
        "history = model.fit(x_train,\n",
        "                    y_train,\n",
        "                    batch_size=32,\n",
        "                    epochs=5,\n",
        "                    validation_data=(x_val, y_val)\n",
        "                   )"
      ]
    },
    {
      "cell_type": "code",
      "execution_count": 7,
      "id": "24a32c3a",
      "metadata": {
        "id": "24a32c3a"
      },
      "outputs": [],
      "source": []
    }
  ],
  "metadata": {
    "kernelspec": {
      "display_name": "Python 3 (ipykernel)",
      "language": "python",
      "name": "python3"
    },
    "language_info": {
      "codemirror_mode": {
        "name": "ipython",
        "version": 3
      },
      "file_extension": ".py",
      "mimetype": "text/x-python",
      "name": "python",
      "nbconvert_exporter": "python",
      "pygments_lexer": "ipython3",
      "version": "3.9.15"
    },
    "varInspector": {
      "cols": {
        "lenName": 16,
        "lenType": 16,
        "lenVar": 40
      },
      "kernels_config": {
        "python": {
          "delete_cmd_postfix": "",
          "delete_cmd_prefix": "del ",
          "library": "var_list.py",
          "varRefreshCmd": "print(var_dic_list())"
        },
        "r": {
          "delete_cmd_postfix": ") ",
          "delete_cmd_prefix": "rm(",
          "library": "var_list.r",
          "varRefreshCmd": "cat(var_dic_list()) "
        }
      },
      "types_to_exclude": [
        "module",
        "function",
        "builtin_function_or_method",
        "instance",
        "_Feature"
      ],
      "window_display": false
    },
    "colab": {
      "provenance": [],
      "include_colab_link": true
    },
    "accelerator": "GPU",
    "gpuClass": "standard"
  },
  "nbformat": 4,
  "nbformat_minor": 5
}