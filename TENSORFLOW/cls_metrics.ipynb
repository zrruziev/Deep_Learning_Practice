{
  "cells": [
    {
      "cell_type": "markdown",
      "metadata": {
        "id": "view-in-github",
        "colab_type": "text"
      },
      "source": [
        "<a href=\"https://colab.research.google.com/github/zrruziev/deep_learning_practice/blob/main/TENSORFLOW/cls_metrics.ipynb\" target=\"_parent\"><img src=\"https://colab.research.google.com/assets/colab-badge.svg\" alt=\"Open In Colab\"/></a>"
      ]
    },
    {
      "cell_type": "markdown",
      "id": "6b3b1474",
      "metadata": {
        "id": "6b3b1474"
      },
      "source": [
        "## Train and save a model to prepare y_pred"
      ]
    },
    {
      "cell_type": "code",
      "execution_count": 1,
      "id": "97dc80ad",
      "metadata": {
        "colab": {
          "base_uri": "https://localhost:8080/"
        },
        "id": "97dc80ad",
        "outputId": "07de282f-d1cf-4592-a1f0-c48ffb3cd0d2"
      },
      "outputs": [
        {
          "output_type": "stream",
          "name": "stdout",
          "text": [
            "Downloading data from https://storage.googleapis.com/tensorflow/tf-keras-datasets/train-labels-idx1-ubyte.gz\n",
            "29515/29515 [==============================] - 0s 0us/step\n",
            "Downloading data from https://storage.googleapis.com/tensorflow/tf-keras-datasets/train-images-idx3-ubyte.gz\n",
            "26421880/26421880 [==============================] - 2s 0us/step\n",
            "Downloading data from https://storage.googleapis.com/tensorflow/tf-keras-datasets/t10k-labels-idx1-ubyte.gz\n",
            "5148/5148 [==============================] - 0s 0us/step\n",
            "Downloading data from https://storage.googleapis.com/tensorflow/tf-keras-datasets/t10k-images-idx3-ubyte.gz\n",
            "4422102/4422102 [==============================] - 0s 0us/step\n",
            "x_train shape: (60000, 28, 28, 1)\n",
            "60000 train samples\n",
            "10000 test samples\n",
            "\n",
            "\n"
          ]
        }
      ],
      "source": [
        "import os\n",
        "os.environ[\"CUDA_VISIBLE_DEVICES\"]=\"0\"\n",
        "\n",
        "import numpy as np\n",
        "import tensorflow as tf\n",
        "from tensorflow import keras\n",
        "from tensorflow.keras import layers\n",
        "\n",
        "\n",
        "# Model / data parameters\n",
        "num_classes = 10\n",
        "input_shape = (28, 28, 1)\n",
        "\n",
        "# Load the data and split it between train and test sets\n",
        "(x_train, y_train), (x_test, y_test) = keras.datasets.fashion_mnist.load_data()\n",
        "\n",
        "class_names = ['T-shirt/top',\n",
        "               'Trouser',\n",
        "               'Pullover',\n",
        "               'Dress',\n",
        "               'Coat',\n",
        "               'Sandal',\n",
        "               'Shirt',\n",
        "               'Sneaker',\n",
        "               'Bag',\n",
        "               'Ankle boot']\n",
        "\n",
        "# Scale images to the [0, 1] range\n",
        "x_train = x_train.astype(\"float32\") / 255\n",
        "x_test = x_test.astype(\"float32\") / 255\n",
        "\n",
        "# Make sure images have shape (28, 28, 1)\n",
        "x_train = np.expand_dims(x_train, -1)\n",
        "x_test = np.expand_dims(x_test, -1)\n",
        "print(\"x_train shape:\", x_train.shape)\n",
        "print(x_train.shape[0], \"train samples\")\n",
        "print(x_test.shape[0], \"test samples\\n\\n\")\n",
        "\n",
        "# # In case you don't use pretrained model\n",
        "# tf.keras.backend.clear_session()\n",
        "# model = keras.Sequential([\n",
        "#         keras.Input(shape=input_shape),\n",
        "#         layers.Conv2D(32, kernel_size=(3, 3), activation=\"relu\"),\n",
        "#         layers.MaxPooling2D(pool_size=(2, 2)),\n",
        "#         layers.Conv2D(64, kernel_size=(3, 3), activation=\"relu\"),\n",
        "#         layers.MaxPooling2D(pool_size=(2, 2)),\n",
        "#         layers.Flatten(),\n",
        "#         layers.Dropout(0.5),\n",
        "#         layers.Dense(num_classes, activation=\"softmax\")\n",
        "#         ])\n",
        "\n",
        "# model.summary()\n",
        "\n",
        "\n",
        "# # Compile the model\n",
        "# batch_size = 128\n",
        "# epochs = 8\n",
        "# model.compile(loss=\"sparse_categorical_crossentropy\", optimizer=\"adam\", metrics=[\"accuracy\"])\n",
        "\n",
        "\n",
        "# # Train the model\n",
        "# model.fit(x_train, y_train, batch_size=batch_size, epochs=epochs, validation_split=0.1)\n",
        "\n",
        "# tf.keras.models.save_model(model, \"model_for_cm.h5\")\n",
        "\n",
        "# # Evaluation\n",
        "# score = model.evaluate(x_test, y_test, verbose=0)\n",
        "# print(\"\\nTest loss:\", score[0])\n",
        "# print(\"Test accuracy:\", score[1])\n",
        "\n",
        "# pred = model(x_test)\n",
        "# y_pred = np.argmax(pred, axis=-1)"
      ]
    },
    {
      "cell_type": "code",
      "execution_count": 4,
      "id": "4689af9b",
      "metadata": {
        "colab": {
          "base_uri": "https://localhost:8080/",
          "height": 300
        },
        "id": "4689af9b",
        "outputId": "ebfebfc8-750e-470c-a53f-55e20020d8bb"
      },
      "outputs": [
        {
          "output_type": "stream",
          "name": "stdout",
          "text": [
            "Shape:  (28, 28, 1)\n",
            "Label:  9 -> Ankle boot\n"
          ]
        },
        {
          "output_type": "display_data",
          "data": {
            "text/plain": [
              "<Figure size 432x288 with 1 Axes>"
            ],
            "image/png": "[encoded data removed]"
          },
          "metadata": {
            "needs_background": "light"
          }
        }
      ],
      "source": [
        "import matplotlib.pyplot as plt\n",
        "import numpy as np\n",
        "\n",
        "# Make sure labels and images are match\n",
        "n = 0\n",
        "print(\"Shape: \", x_train[n].shape)\n",
        "print(\"Label: \", y_train[n], \"->\", class_names[y_train[n]])\n",
        "plt.imshow(np.squeeze(x_train[n]), cmap='gray'); # matplotlib.pyplot.imshow() needs a 2D array, or a 3D array with the third dimension being of shape 3 or 4!"
      ]
    },
    {
      "cell_type": "code",
      "execution_count": 5,
      "id": "cf6963c4",
      "metadata": {
        "id": "cf6963c4"
      },
      "outputs": [],
      "source": [
        "# Download the model\n",
        "!wget -q --no-check-certificate 'https://drive.google.com/u/0/uc?id=1DeoF7rJLWuXFw_RVbwyT5UOEGHYlbEOK' -O model_for_cm.h5\n",
        "\n",
        "\n",
        "pred_model = tf.keras.models.load_model(\"model_for_cm.h5\")\n",
        "pred = pred_model(x_test)\n",
        "y_pred = np.argmax(pred, axis=-1)"
      ]
    },
    {
      "cell_type": "markdown",
      "id": "8b225011",
      "metadata": {
        "id": "8b225011"
      },
      "source": [
        "<hr>\n",
        "<br>\n",
        "\n",
        "# confusion-matrix, accuracy, precision, recall, F1-score"
      ]
    },
    {
      "cell_type": "code",
      "execution_count": 6,
      "id": "a4cd770b",
      "metadata": {
        "id": "a4cd770b"
      },
      "outputs": [],
      "source": [
        "import matplotlib.pyplot as plt\n",
        "from sklearn.metrics import (confusion_matrix,\n",
        "                             multilabel_confusion_matrix,\n",
        "                             ConfusionMatrixDisplay,\n",
        "                             accuracy_score,\n",
        "                             precision_score,\n",
        "                             recall_score,\n",
        "                             classification_report)"
      ]
    },
    {
      "cell_type": "markdown",
      "id": "adb7328f",
      "metadata": {
        "id": "adb7328f"
      },
      "source": [
        "- ### Confusion Matrix for Multi-Class Classification\n",
        "\n",
        "  Confusion Matrix for multiclass classification is used to know     the performance of a Machine learning classification. It is       represented in a matrix form. Confusion Matrix gives a comparison between Actual and predicted values. The confusion matrix is a N x N matrix, where N is the number of classes or outputs. For 2 class ,we get 2 x 2 confusion matrix. For 3 class ,we get 3 X 3 confusion matrix."
      ]
    },
    {
      "cell_type": "code",
      "execution_count": 7,
      "id": "f8768974",
      "metadata": {
        "scrolled": true,
        "colab": {
          "base_uri": "https://localhost:8080/"
        },
        "id": "f8768974",
        "outputId": "78875497-b384-451b-9feb-f0feed0d8f98"
      },
      "outputs": [
        {
          "output_type": "stream",
          "name": "stdout",
          "text": [
            "[[[ 768  232]\n",
            "  [  93 8907]]\n",
            "\n",
            " [[ 975   25]\n",
            "  [   8 8992]]\n",
            "\n",
            " [[ 796  204]\n",
            "  [  99 8901]]\n",
            "\n",
            " [[ 924   76]\n",
            "  [ 145 8855]]\n",
            "\n",
            " [[ 885  115]\n",
            "  [ 249 8751]]\n",
            "\n",
            " [[ 976   24]\n",
            "  [  22 8978]]\n",
            "\n",
            " [[ 693  307]\n",
            "  [ 348 8652]]\n",
            "\n",
            " [[ 964   36]\n",
            "  [  51 8949]]\n",
            "\n",
            " [[ 975   25]\n",
            "  [  37 8963]]\n",
            "\n",
            " [[ 961   39]\n",
            "  [  31 8969]]]\n"
          ]
        }
      ],
      "source": [
        "# cm_multi = confusion_matrix(y_test, y_pred, normalize='true')\n",
        "cm_multi = multilabel_confusion_matrix(y_test, y_pred)\n",
        "cm_multi = np.flip(cm_multi, axis=1)\n",
        "cm_multi = np.flip(cm_multi, axis=2)\n",
        "\n",
        "print(cm_multi)"
      ]
    },
    {
      "cell_type": "code",
      "execution_count": 8,
      "id": "f1fb521f",
      "metadata": {
        "colab": {
          "base_uri": "https://localhost:8080/"
        },
        "id": "f1fb521f",
        "outputId": "cb118e69-8d7c-408e-e3fa-b234709f3302"
      },
      "outputs": [
        {
          "output_type": "stream",
          "name": "stdout",
          "text": [
            "Confusion Matrix\n",
            "\n",
            "[[768   1  16  40   5   1 160   0   9   0]\n",
            " [  0 975   0  16   4   0   2   0   3   0]\n",
            " [  8   1 796  10  93   0  88   0   4   0]\n",
            " [  4   3   8 924  21   0  39   0   1   0]\n",
            " [  1   1  20  39 885   0  52   0   2   0]\n",
            " [  0   0   0   0   0 976   1  16   0   7]\n",
            " [ 80   1  53  34 123   0 693   0  16   0]\n",
            " [  0   0   0   0   0  11   0 964   1  24]\n",
            " [  0   1   2   6   3   3   6   4 975   0]\n",
            " [  0   0   0   0   0   7   0  31   1 961]]\n",
            "\n",
            "Accuracy: 0.89\n",
            "\n",
            "Micro Precision: 0.89\n",
            "Micro Recall: 0.89\n",
            "Micro F1-score: 0.89\n",
            "\n",
            "Macro Precision: 0.89\n",
            "Macro Recall: 0.89\n",
            "Macro F1-score: 0.89\n",
            "\n",
            "Weighted Precision: 0.89\n",
            "Weighted Recall: 0.89\n",
            "Weighted F1-score: 0.89\n"
          ]
        }
      ],
      "source": [
        "#importing confusion matrix\n",
        "from sklearn.metrics import confusion_matrix\n",
        "confusion = confusion_matrix(y_test, y_pred)\n",
        "print('Confusion Matrix\\n')\n",
        "print(confusion)\n",
        "\n",
        "#importing accuracy_score, precision_score, recall_score, f1_score\n",
        "from sklearn.metrics import accuracy_score, precision_score, recall_score, f1_score\n",
        "print('\\nAccuracy: {:.2f}\\n'.format(accuracy_score(y_test, y_pred)))\n",
        "\n",
        "print('Micro Precision: {:.2f}'.format(precision_score(y_test, y_pred, average='micro')))\n",
        "print('Micro Recall: {:.2f}'.format(recall_score(y_test, y_pred, average='micro')))\n",
        "print('Micro F1-score: {:.2f}\\n'.format(f1_score(y_test, y_pred, average='micro')))\n",
        "\n",
        "print('Macro Precision: {:.2f}'.format(precision_score(y_test, y_pred, average='macro')))\n",
        "print('Macro Recall: {:.2f}'.format(recall_score(y_test, y_pred, average='macro')))\n",
        "print('Macro F1-score: {:.2f}\\n'.format(f1_score(y_test, y_pred, average='macro')))\n",
        "\n",
        "print('Weighted Precision: {:.2f}'.format(precision_score(y_test, y_pred, average='weighted')))\n",
        "print('Weighted Recall: {:.2f}'.format(recall_score(y_test, y_pred, average='weighted')))\n",
        "print('Weighted F1-score: {:.2f}'.format(f1_score(y_test, y_pred, average='weighted')))\n"
      ]
    },
    {
      "cell_type": "code",
      "execution_count": 9,
      "id": "85f170be",
      "metadata": {
        "scrolled": false,
        "colab": {
          "base_uri": "https://localhost:8080/",
          "height": 689
        },
        "id": "85f170be",
        "outputId": "613b399f-fd26-4200-8f31-4aca008f894b"
      },
      "outputs": [
        {
          "output_type": "display_data",
          "data": {
            "text/plain": [
              "<Figure size 864x864 with 2 Axes>"
            ],
            "image/png": "[encoded data removed]"
          },
          "metadata": {
            "needs_background": "light"
          }
        }
      ],
      "source": [
        "# cm = confusion_matrix(y_test, y_pred, normalize='true')\n",
        "cm = confusion_matrix(y_test, y_pred)\n",
        "# print(cm)\n",
        "\n",
        "\n",
        "fig, ax = plt.subplots(figsize=(12,12))\n",
        "disp = ConfusionMatrixDisplay(cm, display_labels=class_names)\n",
        "disp.plot(ax=ax, cmap='Blues');\n",
        "# plt.xlabel(\"true_labels\")\n",
        "# plt.ylabel(\"pred_labels\")\n",
        "\n"
      ]
    },
    {
      "cell_type": "code",
      "execution_count": 10,
      "id": "c3b11236",
      "metadata": {
        "colab": {
          "base_uri": "https://localhost:8080/"
        },
        "id": "c3b11236",
        "outputId": "7cc7eaf3-7465-4056-bfee-fdc6b86724b2"
      },
      "outputs": [
        {
          "output_type": "stream",
          "name": "stdout",
          "text": [
            "\n",
            "Classification Report\n",
            "\n",
            "              precision    recall  f1-score   support\n",
            "\n",
            " T-shirt/top       0.89      0.77      0.83      1000\n",
            "     Trouser       0.99      0.97      0.98      1000\n",
            "    Pullover       0.89      0.80      0.84      1000\n",
            "       Dress       0.86      0.92      0.89      1000\n",
            "        Coat       0.78      0.89      0.83      1000\n",
            "      Sandal       0.98      0.98      0.98      1000\n",
            "       Shirt       0.67      0.69      0.68      1000\n",
            "     Sneaker       0.95      0.96      0.96      1000\n",
            "         Bag       0.96      0.97      0.97      1000\n",
            "  Ankle boot       0.97      0.96      0.96      1000\n",
            "\n",
            "    accuracy                           0.89     10000\n",
            "   macro avg       0.89      0.89      0.89     10000\n",
            "weighted avg       0.89      0.89      0.89     10000\n",
            "\n"
          ]
        }
      ],
      "source": [
        "print('\\nClassification Report\\n')\n",
        "print(classification_report(y_test, y_pred, target_names=class_names))\n"
      ]
    },
    {
      "cell_type": "markdown",
      "id": "152a300f",
      "metadata": {
        "id": "152a300f"
      },
      "source": [
        "## Accuracy\n",
        "\n",
        "Accuracy is a metric that generally describes how the model performs across all classes. It is useful when all classes are of equal importance. It is calculated as the ratio between the number of correct predictions to the total number of predictions.\n",
        "\n",
        "- $Accuracy = \\dfrac{TP+TN}{TP + TN + FP + FN}$\n",
        "  \n",
        "  In brief, **accuracy** is sum of diagonal values of confusion matrix devided by sum of all values of confusion matrix"
      ]
    },
    {
      "cell_type": "markdown",
      "id": "bf60053a",
      "metadata": {
        "id": "bf60053a"
      },
      "source": [
        "## Precision\n",
        "\n",
        "- The precision is calculated as the ratio between the number of     Positive samples correctly classified to the total number of       samples classified as Positive (either correctly or               incorrectly). The precision measures the model's accuracy in       classifying a sample as positive.\n",
        "\n",
        "  - $Recall = \\dfrac{TP}{TP + FP}$\n",
        "  \n",
        "    For example, model predicted 887 samples out of 1000 samples as `T-shirt/top` corrrectly, and 217 samples of (trouser, pullover, dress, coat, shirt, bag) predicted as `T-shirt/top` incorrectly. So recall value for this class:\n",
        "    \n",
        "    $Recall = \\dfrac{887}{887+1+16+20+1+0+176+0+3+0} = 0.8034$ -->.08\n",
        "  \n",
        "  \n",
        "- When the model makes many incorrect Positive classifications, or   few correct Positive classifications, this increases the           denominator and makes the precision small. On the other hand,     the precision is high when:\n",
        "\n",
        "  1. The model makes many correct Positive classifications              (maximize True Positive).\n",
        "  2. The model makes fewer incorrect Positive classifications          (minimize False Positive).\n",
        "\n",
        "- Imagine a man who is trusted by others; when he predicts           something, others believe him. The precision is like this man.     When the precision is high, you can trust the model when it       predicts a sample as Positive. Thus, the precision helps to know   how the model is accurate when it says that a sample is           Positive. Based on the previous discussion, here is a definition of precision:\n",
        "  <br>**The precision reflects how reliable the model is in classifying samples as Positive.**"
      ]
    },
    {
      "cell_type": "markdown",
      "id": "e64b6f30",
      "metadata": {
        "id": "e64b6f30"
      },
      "source": [
        "## Recall\n",
        "\n",
        "The recall is calculated as the ratio between the number of Positive samples correctly classified as Positive to the total number of Positive samples. The recall measures the model's ability to detect Positive samples. The higher the recall, the more positive samples detected.\n",
        "\n",
        "- $Recall = \\dfrac{TP}{TP + FN}$\n",
        "\n",
        "  For example, model predicted 887 samples out of 1000 samples as   `T-shirt/top` corrrectly, and 113 samples as `pullover`,           `dress`, `coat`, `sandal`, `shirt`, `bag` incorrectly. So recall   value for this class:\n",
        "  \n",
        "  $Recall = \\dfrac{887}{887+0+20+18+7+1+59+0+8+0} = 0.887$ -->       0.89\n",
        "\n",
        "The recall cares only about how the positive samples are classified. This is independent of how the negative samples are classified, e.g. for the precision. When the model classifies all the positive samples as Positive, then the recall will be 100% even if all the negative samples were incorrectly classified as Positive.\n"
      ]
    },
    {
      "cell_type": "markdown",
      "id": "c60e3bb0",
      "metadata": {
        "id": "c60e3bb0"
      },
      "source": [
        "## F1 Score\n",
        "\n",
        "- F1-score is the harmonic mean of precision and recall. It combines precision and recall into a single number using the following formula:\n",
        "  \n",
        "  $Recall = \\dfrac{2}{ {\\dfrac{1}{Precision}} + {\\dfrac{1}{Recall}} } = \\dfrac{2*Precision*Recall}{Precision + Recall}$\n",
        "  \n",
        "  F1-score takes both precision and recall into account, which also means it accounts for both FPs and FNs. The higher the precision and recall, the higher the F1-score. F1-score ranges between 0 and 1. The closer it is to 1, the better the model. \n",
        "  \n",
        "  If all classes have the same number of samples, I would consider Macro-average F1-score as the best metric to evaluate the performance of a multiclass classification model. This is because it gives equal weight to all classes, and it provides a good balance between precision and recall. This metric is a good overall measure of the model's performance and does not favor any specific class over the others. It gives a good understanding of the model's performance across all classes and a good idea of where the model is performing well or poorly.\n"
      ]
    },
    {
      "cell_type": "markdown",
      "id": "5aff20a3",
      "metadata": {
        "id": "5aff20a3"
      },
      "source": [
        "<hr>"
      ]
    },
    {
      "cell_type": "markdown",
      "id": "3851e180",
      "metadata": {
        "id": "3851e180"
      },
      "source": [
        "## [\"Beyond Accuracy\" by by Will Koehrsen](https://willkoehrsen.github.io/statistics/learning/beyond-accuracy-precision-and-recall/)"
      ]
    },
    {
      "cell_type": "markdown",
      "id": "734550ae",
      "metadata": {
        "id": "734550ae"
      },
      "source": [
        "<hr>"
      ]
    }
  ],
  "metadata": {
    "kernelspec": {
      "display_name": "Python 3 (ipykernel)",
      "language": "python",
      "name": "python3"
    },
    "language_info": {
      "codemirror_mode": {
        "name": "ipython",
        "version": 3
      },
      "file_extension": ".py",
      "mimetype": "text/x-python",
      "name": "python",
      "nbconvert_exporter": "python",
      "pygments_lexer": "ipython3",
      "version": "3.9.15"
    },
    "varInspector": {
      "cols": {
        "lenName": 16,
        "lenType": 16,
        "lenVar": 40
      },
      "kernels_config": {
        "python": {
          "delete_cmd_postfix": "",
          "delete_cmd_prefix": "del ",
          "library": "var_list.py",
          "varRefreshCmd": "print(var_dic_list())"
        },
        "r": {
          "delete_cmd_postfix": ") ",
          "delete_cmd_prefix": "rm(",
          "library": "var_list.r",
          "varRefreshCmd": "cat(var_dic_list()) "
        }
      },
      "types_to_exclude": [
        "module",
        "function",
        "builtin_function_or_method",
        "instance",
        "_Feature"
      ],
      "window_display": false
    },
    "colab": {
      "provenance": [],
      "toc_visible": true,
      "include_colab_link": true
    },
    "accelerator": "GPU",
    "gpuClass": "standard"
  },
  "nbformat": 4,
  "nbformat_minor": 5
}